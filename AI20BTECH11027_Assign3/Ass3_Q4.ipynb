{
 "cells": [
  {
   "cell_type": "markdown",
   "metadata": {
    "id": "0EElsfz4TO2P"
   },
   "source": [
    "# **Code for Q4**"
   ]
  },
  {
   "cell_type": "markdown",
   "metadata": {
    "id": "FuwjJinpTZo5"
   },
   "source": [
    "## **a) Random forest implementation from scratch**"
   ]
  },
  {
   "cell_type": "code",
   "execution_count": 1,
   "metadata": {
    "id": "08NW73WmGBPW"
   },
   "outputs": [],
   "source": [
    "import csv\n",
    "import numpy as np\n",
    "from math import *\n",
    "from random import sample\n",
    "import matplotlib.pyplot as plt\n",
    "from sklearn.ensemble import RandomForestClassifier"
   ]
  },
  {
   "cell_type": "code",
   "execution_count": 2,
   "metadata": {
    "id": "Eeaac7GAGJYW"
   },
   "outputs": [],
   "source": [
    "def entropy(p):\n",
    "    return -(p*log2(p))-((1-p)*log2(1-p))\n",
    "\n",
    "def gini(p):\n",
    "    return 1-(p*p)-((1-p)*(1-p))\n",
    "\n",
    "def counter(dataset,length,fea):\n",
    "    class0=0\n",
    "    class1=0\n",
    "    for i in range(length):\n",
    "        if(int(dataset[i][fea])==0):\n",
    "            class0+=1\n",
    "        else:\n",
    "            class1+=1\n",
    "            \n",
    "    return class0,class1   \n",
    "\n",
    "def splitter(dataset,attribute,threshold, length):\n",
    "    r_data=[]\n",
    "    l_data=[]\n",
    "    for i in range(length):\n",
    "        if(dataset[i][attribute]>=threshold):\n",
    "            r_data.append(dataset[i])\n",
    "        else:\n",
    "            l_data.append(dataset[i])\n",
    "            \n",
    "    r_data=np.array(r_data)\n",
    "    l_data=np.array(l_data)\n",
    "    return l_data,r_data      "
   ]
  },
  {
   "cell_type": "code",
   "execution_count": 3,
   "metadata": {
    "id": "Ykz8lReFGK6o"
   },
   "outputs": [],
   "source": [
    "class DecisionTree():\n",
    "    \n",
    "    # implementing tree as a dictionary\n",
    "    tree={}\n",
    "    \n",
    "    def learn(self,training_set,no_of_th,imp_func,feas_allowed_for_use):        \n",
    "        tree={'attribute':None,'threshold':None,'left_subtree':None,'right_subtree':None,'prediction':None}\n",
    "        \n",
    "        # randomizing\n",
    "        training_set=np.array(training_set,dtype=float)\n",
    "        np.random.shuffle(training_set)\n",
    "        \n",
    "        # assuming training_set has labels included\n",
    "        no_of_data=training_set.shape[0]\n",
    "        no_of_feas=training_set.shape[1]-1\n",
    "        \n",
    "        # it is a binary classification problem\n",
    "        class0,class1=counter(training_set,no_of_data,no_of_feas)\n",
    "        p0=(class0)/(class0+class1)        \n",
    "\n",
    "        # if the purity is 1, then we have reached a leaf node\n",
    "        if(p0==0):\n",
    "            tree['prediction']=1\n",
    "            return tree        \n",
    "        elif(p0==1):\n",
    "            tree['prediction']=0\n",
    "            return tree  \n",
    "        \n",
    "        imp_p=imp_func(p0)\n",
    "        \n",
    "        # finding Minimum and Maximum values of each attribute which ocurred in the training data\n",
    "        Min_val=np.min(training_set[:,:-1],0)\n",
    "        Max_val=np.max(training_set[:,:-1],0)\n",
    "\n",
    "        # storing thresholds\n",
    "        th=[]\n",
    "        temp_list=[]\n",
    "        for i in range(no_of_feas):\n",
    "            a=Min_val[i]\n",
    "            b=Max_val[i]\n",
    "            th.append(np.linspace(a,b,no_of_th+1,endpoint=False))\n",
    "            temp_list.append(i)\n",
    "        th=np.array(th)\n",
    "        th=th[:,1:]\n",
    "        th=np.array(th)\n",
    "\n",
    "        # randomly choosing some features\n",
    "        chosen_feas=sample(temp_list,feas_allowed_for_use)\n",
    "\n",
    "        # finding best split\n",
    "        max_ig=-100        \n",
    "        for i in range(feas_allowed_for_use):               \n",
    "            for j in th[chosen_feas[i]]:\n",
    "                \n",
    "                left_data,right_data=splitter(training_set,chosen_feas[i],j,no_of_data)                \n",
    "                no_of_ldata=left_data.shape[0]\n",
    "                no_of_rdata=right_data.shape[0]                \n",
    "                \n",
    "                # case of no split\n",
    "                if(no_of_ldata==no_of_data or no_of_ldata==0):\n",
    "                    continue\n",
    "                                     \n",
    "                l_class0,l_class1=counter(left_data,no_of_ldata,no_of_feas)  \n",
    "                l_p0=(l_class0)/(no_of_ldata)\n",
    "\n",
    "                if(l_p0==0 or l_p0==1):\n",
    "                    l_imp = 0\n",
    "                else:\n",
    "                    l_imp = imp_func(l_p0)\n",
    "\n",
    "                r_class0,r_class1=counter(right_data,no_of_rdata,no_of_feas)                                        \n",
    "                r_p0=(r_class0)/(no_of_rdata)\n",
    "\n",
    "                if(r_p0==0 or r_p0==1):\n",
    "                    r_imp = 0\n",
    "                else:\n",
    "                    r_imp = imp_func(r_p0)                        \n",
    "\n",
    "                imp_c=(r_imp*no_of_rdata)+(l_imp*no_of_ldata)\n",
    "                imp_c/=no_of_data\n",
    "                ig=imp_p-imp_c\n",
    "                # print('ig',ig,'max_ig',max_ig)\n",
    "\n",
    "                if(ig>max_ig):\n",
    "                    max_ig=ig\n",
    "                    tree['attribute']=chosen_feas[i]\n",
    "                    tree['threshold']=j\n",
    "                    # print('Maxig,att,th',max_ig,attribute,threshold)\n",
    "                        \n",
    "        attribute=tree['attribute']\n",
    "        threshold=tree['threshold']\n",
    "\n",
    "        if(tree['attribute']==None and tree['threshold']==None):\n",
    "            if(class1>=class0):\n",
    "                tree['prediction']=1\n",
    "            else:\n",
    "                tree['prediction']=0\n",
    "            return tree\n",
    "\n",
    "        final_left_data,final_right_data=splitter(training_set,attribute,threshold,no_of_data) \n",
    "        \n",
    "        left_subtree = DecisionTree.learn(self,final_left_data,no_of_th,imp_func,feas_allowed_for_use)\n",
    "        right_subtree = DecisionTree.learn(self,final_right_data,no_of_th,imp_func,feas_allowed_for_use)\n",
    "        \n",
    "        tree['left_subtree']=left_subtree\n",
    "        tree['right_subtree']=right_subtree        \n",
    "        \n",
    "        self.tree = tree\n",
    "        return tree\n",
    "                \n",
    "    def classify(self,tree,test_instance):\n",
    "\n",
    "        if(tree['prediction']!=None):\n",
    "            result = tree['prediction']\n",
    "            return result\n",
    "        else:\n",
    "            if(test_instance[tree['attribute']]>=tree['threshold']):\n",
    "                return DecisionTree.classify(self,tree['right_subtree'],test_instance)\n",
    "            else:\n",
    "                return DecisionTree.classify(self,tree['left_subtree'],test_instance)        \n",
    "        "
   ]
  },
  {
   "cell_type": "code",
   "execution_count": 4,
   "metadata": {
    "id": "Q3e4iQMxj3XG"
   },
   "outputs": [],
   "source": [
    "# Loading dataset\n",
    "with open(\"dataset.txt\") as f:\n",
    "    data = [list(line) for line in csv.reader(f, delimiter=\" \")]\n",
    "\n",
    "# typecasting data for easier calculations\n",
    "data = np.array(data,dtype=float)\n",
    "np.random.shuffle(data)\n",
    "total_data=data.shape[0]\n",
    "total_feas=data.shape[1]\n",
    "\n",
    "# splitting training and test data\n",
    "train=data[:int(ceil(0.7*total_data))][:]\n",
    "test=data[int(ceil(0.7*total_data)):][:]\n",
    "train=np.array(train,dtype=float)\n",
    "test=np.array(test,dtype=float)\n",
    "np.random.shuffle(test)\n",
    "\n",
    "root_fs=int(sqrt(total_feas))"
   ]
  },
  {
   "cell_type": "code",
   "execution_count": 5,
   "metadata": {
    "id": "oIXuDfHNIPuv"
   },
   "outputs": [],
   "source": [
    "def random_forest(no_of_trees,m,train_data,test_data,oob): \n",
    "\n",
    "    total_train=train_data.shape[0]\n",
    "    total_test=test_data.shape[0]    \n",
    "\n",
    "    copy_train=train_data.copy() \n",
    "\n",
    "    if(oob==0):\n",
    "        RESULTS=[]\n",
    "        for i in range(no_of_trees):\n",
    "            np.random.shuffle(copy_train)\n",
    "            np.random.shuffle(copy_train)\n",
    "            Tree = DecisionTree()\n",
    "            \n",
    "            # using only 1/10th data and sqrt(total_feas) features\n",
    "            tree=Tree.learn(copy_train[:int(ceil(0.1*total_train)),:],15,entropy,m)        \n",
    "            \n",
    "            # Classify the test set using the tree we just constructed\n",
    "            results = []\n",
    "            for instance in test_data:\n",
    "                result = Tree.classify(tree,instance)\n",
    "                results.append(result)\n",
    "            RESULTS.append(results)\n",
    "\n",
    "        # majority vote and accuracy\n",
    "        Acc=0\n",
    "        answers=(np.sum(RESULTS,0))/100\n",
    "        for i in range(total_test):\n",
    "            if(int(test_data[i][-1])==0 and answers[i]<0.5):\n",
    "                Acc+=1\n",
    "            elif(int(test_data[i][-1])==1 and answers[i]>=0.5):\n",
    "                Acc+=1    \n",
    "\n",
    "        Acc=(Acc/total_test)\n",
    "        print(\"Accuracy: %.4f\" % Acc)\n",
    "        \n",
    "        return Acc\n",
    "\n",
    "    elif(oob!=0):\n",
    "\n",
    "        OOB_matrix=[]\n",
    "        indexing=[]\n",
    "        for i in range(total_train):\n",
    "            OOB_matrix.append([])\n",
    "            indexing.append(i)\n",
    "\n",
    "        indexing=(np.array(indexing)).reshape(total_train,1)\n",
    "        index_train=np.concatenate((copy_train,indexing),axis=1)\n",
    "\n",
    "        for i in range(no_of_trees):\n",
    "            np.random.shuffle(index_train)\n",
    "            np.random.shuffle(index_train)\n",
    "            Tree = DecisionTree()\n",
    "            \n",
    "            # using only 1/10th data and sqrt(total_feas) features\n",
    "            tree=Tree.learn(index_train[:int(ceil(0.1*total_train)),:-1],15,entropy,m)\n",
    "\n",
    "            oob_data=index_train[int(ceil(0.1*total_train)):]\n",
    "            for instance in oob_data:\n",
    "                OOB_matrix[int(instance[-1])].append(Tree.classify(tree,instance[:-1]))\n",
    "\n",
    "        OOB_pred=np.zeros(total_train)\n",
    "        oob_err=0\n",
    "        for i in range(total_train):\n",
    "            term=OOB_matrix[i]\n",
    "            temp=sum(term)/len(term)\n",
    "            if(temp>=0.5):\n",
    "                OOB_pred[i]=1\n",
    "            else:\n",
    "                OOB_pred[i]=0\n",
    "\n",
    "            if(OOB_pred[i]!=copy_train[i][-1]):\n",
    "                oob_err+=1\n",
    "        oob_err/=total_train\n",
    "        return oob_err      \n",
    "        "
   ]
  },
  {
   "cell_type": "code",
   "execution_count": 6,
   "metadata": {
    "colab": {
     "base_uri": "https://localhost:8080/"
    },
    "id": "V7l4WONhYKA2",
    "outputId": "01776805-d737-4d3b-acbd-3bee7ff66f62"
   },
   "outputs": [
    {
     "name": "stdout",
     "output_type": "stream",
     "text": [
      "Accuracy: 0.9406\n"
     ]
    }
   ],
   "source": [
    "if __name__ == \"__main__\":\n",
    "    random_forest(100,root_fs,train,test,0)  "
   ]
  },
  {
   "cell_type": "markdown",
   "metadata": {
    "id": "WkdCGMBPTmp_"
   },
   "source": [
    "### *Accuracy around 0.93-0.95 is obtained. Takes about a minute to run*"
   ]
  },
  {
   "cell_type": "markdown",
   "metadata": {
    "id": "xbm4nPyrT90d"
   },
   "source": [
    "## **Random forest using sklearn**"
   ]
  },
  {
   "cell_type": "code",
   "execution_count": 7,
   "metadata": {
    "colab": {
     "base_uri": "https://localhost:8080/"
    },
    "id": "f0wIJWJfN944",
    "outputId": "892c4df6-fc9c-4294-fefb-ecd4ac4824ca"
   },
   "outputs": [
    {
     "name": "stdout",
     "output_type": "stream",
     "text": [
      "0.9521739130434783\n"
     ]
    }
   ],
   "source": [
    "rf=RandomForestClassifier(criterion='entropy')\n",
    "rf.fit(train[:,:-1],train[:,-1])\n",
    "print(rf.score(test[:,:-1],test[:,-1]))"
   ]
  },
  {
   "cell_type": "markdown",
   "metadata": {
    "id": "CFeS7Lu5T1SR"
   },
   "source": [
    "### *Accuracy around 0.94-0.95 is obtained. Takes a few seconds to run*"
   ]
  },
  {
   "cell_type": "markdown",
   "metadata": {
    "id": "en51jlfYUIMw"
   },
   "source": [
    "## **b) Sensitivity to m**"
   ]
  },
  {
   "cell_type": "code",
   "execution_count": 12,
   "metadata": {
    "colab": {
     "base_uri": "https://localhost:8080/",
     "height": 279
    },
    "id": "e3OmplkaVaeM",
    "outputId": "1abfe35c-f1a2-4d6c-efa2-82eca690e12c"
   },
   "outputs": [
    {
     "data": {
      "image/png": "[encoded data removed]",
      "text/plain": [
       "<Figure size 432x288 with 1 Axes>"
      ]
     },
     "metadata": {
      "needs_background": "light"
     },
     "output_type": "display_data"
    }
   ],
   "source": [
    "ms=[]\n",
    "acs=[]\n",
    "\n",
    "for i in range(3,58,2):\n",
    "    ms.append(i)\n",
    "\n",
    "for i in ms:\n",
    "    rf=RandomForestClassifier(criterion='entropy',max_features=i)\n",
    "    rf.fit(train[:,:-1],train[:,-1])\n",
    "    acs.append(rf.score(test[:,:-1],test[:,-1]))\n",
    "\n",
    "plt.plot(ms,acs)\n",
    "plt.ylabel('Accuracy')\n",
    "plt.xlabel('m')\n",
    "plt.grid()   "
   ]
  },
  {
   "cell_type": "markdown",
   "metadata": {
    "id": "qfa38nG_qCvg"
   },
   "source": [
    "### *We can see that the accuracies seem to touch peaks when values of m are close to sqrt(N)/2,sqrt(N),2sqrt(N), where N is total features  (which is 57 here). These are the values which Breiman suggested. Also, when m<<N, accuracies seem to be better, than when m is comparable to N.*"
   ]
  },
  {
   "cell_type": "code",
   "execution_count": 24,
   "metadata": {
    "id": "6chGWXE-93V5"
   },
   "outputs": [
    {
     "name": "stdout",
     "output_type": "stream",
     "text": [
      "OOB for m= 3 : 0.09593294008072027\n",
      "OOB for m= 5 : 0.06799130704750078\n",
      "OOB for m= 7 : 0.0611611300838249\n",
      "OOB for m= 9 : 0.058366966780502946\n",
      "OOB for m= 11 : 0.06364483079788885\n",
      "OOB for m= 13 : 0.06333436820863086\n",
      "OOB for m= 15 : 0.05898789195901894\n"
     ]
    },
    {
     "data": {
      "image/png": "[encoded data removed]",
      "text/plain": [
       "<Figure size 432x288 with 1 Axes>"
      ]
     },
     "metadata": {
      "needs_background": "light"
     },
     "output_type": "display_data"
    }
   ],
   "source": [
    "oobs=[]\n",
    "ms=[]\n",
    "\n",
    "for i in range(1,16,2):\n",
    "    ms.append(i)\n",
    "\n",
    "for i in range(len(ms)):\n",
    "    oobs.append(random_forest(100,i,train,test,1))\n",
    "    if(ms[i]>1):\n",
    "        print(\"OOB for m=\",ms[i],\":\",oobs[i])\n",
    "\n",
    "plt.plot(ms[1:],oobs[1:])\n",
    "plt.ylabel('OOB error')\n",
    "plt.xlabel('m')\n",
    "plt.grid()   "
   ]
  },
  {
   "cell_type": "markdown",
   "metadata": {},
   "source": [
    "### *OOB error seems to decrease as m increases, and it ends up being around 0.06, in the range of m chosen.*"
   ]
  }
 ],
 "metadata": {
  "colab": {
   "name": "Ass3_Q4.ipynb",
   "provenance": []
  },
  "kernelspec": {
   "display_name": "Python 3 (ipykernel)",
   "language": "python",
   "name": "python3"
  },
  "language_info": {
   "codemirror_mode": {
    "name": "ipython",
    "version": 3
   },
   "file_extension": ".py",
   "mimetype": "text/x-python",
   "name": "python",
   "nbconvert_exporter": "python",
   "pygments_lexer": "ipython3",
   "version": "3.8.10"
  }
 },
 "nbformat": 4,
 "nbformat_minor": 1
}
