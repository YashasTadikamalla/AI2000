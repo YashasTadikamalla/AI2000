{
 "cells": [
  {
   "cell_type": "code",
   "execution_count": 341,
   "metadata": {
    "id": "Kd5O3bMdykkk"
   },
   "outputs": [],
   "source": [
    "import csv\n",
    "import pandas as pd\n",
    "import io\n",
    "import numpy as np\n",
    "from sklearn.ensemble import GradientBoostingClassifier\n",
    "from sklearn.tree import DecisionTreeClassifier\n",
    "from sklearn.metrics import precision_score \n",
    "from sklearn.metrics import recall_score"
   ]
  },
  {
   "cell_type": "code",
   "execution_count": 342,
   "metadata": {
    "id": "laMfdRkszFAQ"
   },
   "outputs": [],
   "source": [
    "# loading into dataframe\n",
    "train_df=pd.read_csv('loan_train.csv')\n",
    "# train_df.head()"
   ]
  },
  {
   "cell_type": "code",
   "execution_count": 343,
   "metadata": {
    "colab": {
     "base_uri": "https://localhost:8080/"
    },
    "id": "hC_lWLPhEwC_",
    "outputId": "7717c88b-f4fb-4c36-b360-0de24cc35911"
   },
   "outputs": [
    {
     "name": "stdout",
     "output_type": "stream",
     "text": [
      "<class 'pandas.core.frame.DataFrame'>\n",
      "RangeIndex: 24999 entries, 0 to 24998\n",
      "Columns: 111 entries, id to total_il_high_credit_limit\n",
      "dtypes: float64(74), int64(13), object(24)\n",
      "memory usage: 21.2+ MB\n"
     ]
    }
   ],
   "source": [
    "# some general info\n",
    "train_df.info()"
   ]
  },
  {
   "cell_type": "code",
   "execution_count": 344,
   "metadata": {
    "id": "Z2VKxyQ61Q3s"
   },
   "outputs": [],
   "source": [
    "# removing data with value 'Current' in 'loan_status' column\n",
    "indexes=train_df[train_df['loan_status']=='Current'].index\n",
    "train_df.drop(indexes,inplace=True)\n",
    "# train_df.head()"
   ]
  },
  {
   "cell_type": "code",
   "execution_count": 345,
   "metadata": {
    "id": "Iz2xAwsb-JPM"
   },
   "outputs": [],
   "source": [
    "# replacing values in 'loan_status'\n",
    "train_df.replace({'loan_status':{'Fully Paid':1,'Charged Off':-1}}, inplace=True)\n",
    "# train_df.head()"
   ]
  },
  {
   "cell_type": "code",
   "execution_count": 346,
   "metadata": {
    "colab": {
     "base_uri": "https://localhost:8080/"
    },
    "id": "DEyefs4NEW8U",
    "outputId": "78e7bdc2-b8f3-4d79-de5b-8e542c496d08"
   },
   "outputs": [
    {
     "data": {
      "text/plain": [
       "id                                0\n",
       "member_id                         0\n",
       "loan_amnt                         0\n",
       "funded_amnt                       0\n",
       "funded_amnt_inv                   0\n",
       "                              ...  \n",
       "tax_liens                        17\n",
       "tot_hi_cred_lim               24301\n",
       "total_bal_ex_mort             24301\n",
       "total_bc_limit                24301\n",
       "total_il_high_credit_limit    24301\n",
       "Length: 111, dtype: int64"
      ]
     },
     "execution_count": 346,
     "metadata": {},
     "output_type": "execute_result"
    }
   ],
   "source": [
    "# checking prevelance of NaN\n",
    "train_df.isnull().sum()"
   ]
  },
  {
   "cell_type": "code",
   "execution_count": 347,
   "metadata": {
    "id": "v8SgULVXFA27"
   },
   "outputs": [],
   "source": [
    "# removing those columns with more than half NaN entries\n",
    "train_df.dropna(axis=1,thresh=12500,inplace=True)\n",
    "# train_df.head()"
   ]
  },
  {
   "cell_type": "code",
   "execution_count": 348,
   "metadata": {
    "colab": {
     "base_uri": "https://localhost:8080/"
    },
    "id": "aXoM6lv1FurW",
    "outputId": "936e3a5d-a707-4c8d-b912-8358b45f060f"
   },
   "outputs": [
    {
     "name": "stdout",
     "output_type": "stream",
     "text": [
      "<class 'pandas.core.frame.DataFrame'>\n",
      "Int64Index: 24301 entries, 0 to 24998\n",
      "Data columns (total 54 columns):\n",
      " #   Column                      Non-Null Count  Dtype  \n",
      "---  ------                      --------------  -----  \n",
      " 0   id                          24301 non-null  int64  \n",
      " 1   member_id                   24301 non-null  int64  \n",
      " 2   loan_amnt                   24301 non-null  int64  \n",
      " 3   funded_amnt                 24301 non-null  int64  \n",
      " 4   funded_amnt_inv             24301 non-null  float64\n",
      " 5   term                        24301 non-null  object \n",
      " 6   int_rate                    24301 non-null  object \n",
      " 7   installment                 24301 non-null  float64\n",
      " 8   grade                       24301 non-null  object \n",
      " 9   sub_grade                   24301 non-null  object \n",
      " 10  emp_title                   24295 non-null  object \n",
      " 11  emp_length                  24261 non-null  object \n",
      " 12  home_ownership              24301 non-null  object \n",
      " 13  annual_inc                  24301 non-null  float64\n",
      " 14  verification_status         24301 non-null  object \n",
      " 15  issue_d                     24301 non-null  object \n",
      " 16  loan_status                 24301 non-null  int64  \n",
      " 17  pymnt_plan                  24301 non-null  object \n",
      " 18  url                         24301 non-null  object \n",
      " 19  desc                        16358 non-null  object \n",
      " 20  purpose                     24301 non-null  object \n",
      " 21  title                       24293 non-null  object \n",
      " 22  zip_code                    24301 non-null  object \n",
      " 23  addr_state                  24301 non-null  object \n",
      " 24  dti                         24301 non-null  float64\n",
      " 25  delinq_2yrs                 24301 non-null  int64  \n",
      " 26  earliest_cr_line            24301 non-null  object \n",
      " 27  inq_last_6mths              24301 non-null  int64  \n",
      " 28  open_acc                    24301 non-null  int64  \n",
      " 29  pub_rec                     24301 non-null  int64  \n",
      " 30  revol_bal                   24301 non-null  int64  \n",
      " 31  revol_util                  24272 non-null  object \n",
      " 32  total_acc                   24301 non-null  int64  \n",
      " 33  initial_list_status         24301 non-null  object \n",
      " 34  out_prncp                   24301 non-null  float64\n",
      " 35  out_prncp_inv               24301 non-null  float64\n",
      " 36  total_pymnt                 24301 non-null  float64\n",
      " 37  total_pymnt_inv             24301 non-null  float64\n",
      " 38  total_rec_prncp             24301 non-null  float64\n",
      " 39  total_rec_int               24301 non-null  float64\n",
      " 40  total_rec_late_fee          24301 non-null  float64\n",
      " 41  recoveries                  24301 non-null  float64\n",
      " 42  collection_recovery_fee     24301 non-null  float64\n",
      " 43  last_pymnt_d                24256 non-null  object \n",
      " 44  last_pymnt_amnt             24301 non-null  float64\n",
      " 45  last_credit_pull_d          24301 non-null  object \n",
      " 46  collections_12_mths_ex_med  24272 non-null  float64\n",
      " 47  policy_code                 24301 non-null  int64  \n",
      " 48  application_type            24301 non-null  object \n",
      " 49  acc_now_delinq              24301 non-null  int64  \n",
      " 50  chargeoff_within_12_mths    24272 non-null  float64\n",
      " 51  delinq_amnt                 24301 non-null  int64  \n",
      " 52  pub_rec_bankruptcies        23884 non-null  float64\n",
      " 53  tax_liens                   24284 non-null  float64\n",
      "dtypes: float64(18), int64(14), object(22)\n",
      "memory usage: 10.2+ MB\n"
     ]
    }
   ],
   "source": [
    "# some info after the preprocessing\n",
    "train_df.info()"
   ]
  },
  {
   "cell_type": "code",
   "execution_count": 349,
   "metadata": {
    "id": "MMiqB1ROLYAI"
   },
   "outputs": [],
   "source": [
    "train_df.application_type=train_df.application_type.astype('category').cat.codes\n",
    "train_df.home_ownership=train_df.home_ownership.astype('category').cat.codes\n",
    "train_df.term=train_df.term.astype('category').cat.codes\n",
    "train_df.grade=train_df.grade.astype('category').cat.codes\n",
    "train_df.sub_grade=train_df.sub_grade.astype('category').cat.codes\n",
    "train_df['int_rate']=train_df['int_rate'].str.replace('%','').astype('float64')\n",
    "# train_df.head()"
   ]
  },
  {
   "cell_type": "code",
   "execution_count": 350,
   "metadata": {
    "id": "DKIfsvIaESOq"
   },
   "outputs": [],
   "source": [
    "# set(train_df['verification_status'])\n",
    "train_df['verification_status']=train_df['verification_status'].str.replace('Source ','')\n",
    "# set(train_df['verification_status'])\n",
    "train_df.verification_status=train_df.verification_status.astype('category').cat.codes"
   ]
  },
  {
   "cell_type": "code",
   "execution_count": 351,
   "metadata": {
    "id": "z967d2_TFPaV"
   },
   "outputs": [],
   "source": [
    "# set(train_df['emp_length'])\n",
    "train_df['emp_length']=train_df['emp_length'].str.replace('years','')\n",
    "train_df['emp_length']=train_df['emp_length'].str.replace('year','')\n",
    "train_df['emp_length']=train_df['emp_length'].str.replace('+','')\n",
    "train_df['emp_length']=train_df['emp_length'].str.replace('<','')\n",
    "train_df['emp_length']=train_df['emp_length'].str.replace(' ','')\n",
    "# set(train_df['emp_length'])"
   ]
  },
  {
   "cell_type": "code",
   "execution_count": 352,
   "metadata": {
    "id": "a5CJyO0GJFDn"
   },
   "outputs": [],
   "source": [
    "mode=train_df['emp_length'].mode()\n",
    "# print(mode[0])\n",
    "train_df['emp_length'].fillna(mode[0],inplace=True)\n",
    "# set(train_df['emp_length'])\n",
    "train_df.emp_length=train_df.emp_length.astype('int64')\n",
    "# set(train_df.emp_length)"
   ]
  },
  {
   "cell_type": "code",
   "execution_count": 353,
   "metadata": {
    "id": "UFuhJhReKlCt"
   },
   "outputs": [],
   "source": [
    "# set(train_df['revol_util'])\n",
    "train_df['revol_util']=train_df['revol_util'].str.replace('%','').astype('float64')\n",
    "# set(train_df['revol_util'])"
   ]
  },
  {
   "cell_type": "code",
   "execution_count": 354,
   "metadata": {
    "id": "qWvrXr8YLoN3"
   },
   "outputs": [],
   "source": [
    "mean=train_df['revol_util'].mean()\n",
    "# print(mean)\n",
    "train_df['revol_util'].fillna(mean,inplace=True)\n",
    "# set(train_df['emp_length'])"
   ]
  },
  {
   "cell_type": "code",
   "execution_count": 355,
   "metadata": {
    "id": "JzMlMW47y1Z8"
   },
   "outputs": [],
   "source": [
    "# set(train_df['purpose'])\n",
    "train_df.purpose=train_df.purpose.astype('category').cat.codes\n",
    "# set(train_df['purpose'])"
   ]
  },
  {
   "cell_type": "code",
   "execution_count": 356,
   "metadata": {
    "id": "ViH_0IHW0iyg"
   },
   "outputs": [],
   "source": [
    "# set(train_df['addr_state'])\n",
    "train_df.addr_state=train_df.addr_state.astype('category').cat.codes\n",
    "# set(train_df['purpose'])"
   ]
  },
  {
   "cell_type": "code",
   "execution_count": 357,
   "metadata": {
    "colab": {
     "base_uri": "https://localhost:8080/"
    },
    "id": "yAdwZhC7n4rN",
    "outputId": "f570d043-0b3f-4a1d-b202-50f6eea33b3e"
   },
   "outputs": [
    {
     "name": "stdout",
     "output_type": "stream",
     "text": [
      "<class 'pandas.core.frame.DataFrame'>\n",
      "Int64Index: 24301 entries, 0 to 24998\n",
      "Data columns (total 54 columns):\n",
      " #   Column                      Non-Null Count  Dtype  \n",
      "---  ------                      --------------  -----  \n",
      " 0   id                          24301 non-null  int64  \n",
      " 1   member_id                   24301 non-null  int64  \n",
      " 2   loan_amnt                   24301 non-null  int64  \n",
      " 3   funded_amnt                 24301 non-null  int64  \n",
      " 4   funded_amnt_inv             24301 non-null  float64\n",
      " 5   term                        24301 non-null  int8   \n",
      " 6   int_rate                    24301 non-null  float64\n",
      " 7   installment                 24301 non-null  float64\n",
      " 8   grade                       24301 non-null  int8   \n",
      " 9   sub_grade                   24301 non-null  int8   \n",
      " 10  emp_title                   24295 non-null  object \n",
      " 11  emp_length                  24301 non-null  int64  \n",
      " 12  home_ownership              24301 non-null  int8   \n",
      " 13  annual_inc                  24301 non-null  float64\n",
      " 14  verification_status         24301 non-null  int8   \n",
      " 15  issue_d                     24301 non-null  object \n",
      " 16  loan_status                 24301 non-null  int64  \n",
      " 17  pymnt_plan                  24301 non-null  object \n",
      " 18  url                         24301 non-null  object \n",
      " 19  desc                        16358 non-null  object \n",
      " 20  purpose                     24301 non-null  int8   \n",
      " 21  title                       24293 non-null  object \n",
      " 22  zip_code                    24301 non-null  object \n",
      " 23  addr_state                  24301 non-null  int8   \n",
      " 24  dti                         24301 non-null  float64\n",
      " 25  delinq_2yrs                 24301 non-null  int64  \n",
      " 26  earliest_cr_line            24301 non-null  object \n",
      " 27  inq_last_6mths              24301 non-null  int64  \n",
      " 28  open_acc                    24301 non-null  int64  \n",
      " 29  pub_rec                     24301 non-null  int64  \n",
      " 30  revol_bal                   24301 non-null  int64  \n",
      " 31  revol_util                  24301 non-null  float64\n",
      " 32  total_acc                   24301 non-null  int64  \n",
      " 33  initial_list_status         24301 non-null  object \n",
      " 34  out_prncp                   24301 non-null  float64\n",
      " 35  out_prncp_inv               24301 non-null  float64\n",
      " 36  total_pymnt                 24301 non-null  float64\n",
      " 37  total_pymnt_inv             24301 non-null  float64\n",
      " 38  total_rec_prncp             24301 non-null  float64\n",
      " 39  total_rec_int               24301 non-null  float64\n",
      " 40  total_rec_late_fee          24301 non-null  float64\n",
      " 41  recoveries                  24301 non-null  float64\n",
      " 42  collection_recovery_fee     24301 non-null  float64\n",
      " 43  last_pymnt_d                24256 non-null  object \n",
      " 44  last_pymnt_amnt             24301 non-null  float64\n",
      " 45  last_credit_pull_d          24301 non-null  object \n",
      " 46  collections_12_mths_ex_med  24272 non-null  float64\n",
      " 47  policy_code                 24301 non-null  int64  \n",
      " 48  application_type            24301 non-null  int8   \n",
      " 49  acc_now_delinq              24301 non-null  int64  \n",
      " 50  chargeoff_within_12_mths    24272 non-null  float64\n",
      " 51  delinq_amnt                 24301 non-null  int64  \n",
      " 52  pub_rec_bankruptcies        23884 non-null  float64\n",
      " 53  tax_liens                   24284 non-null  float64\n",
      "dtypes: float64(20), int64(15), int8(8), object(11)\n",
      "memory usage: 8.9+ MB\n"
     ]
    }
   ],
   "source": [
    "train_df.info()"
   ]
  },
  {
   "cell_type": "code",
   "execution_count": 358,
   "metadata": {
    "id": "7qX99RioAnrz"
   },
   "outputs": [],
   "source": [
    "# dropping data which are not useful\n",
    "train_df.drop(['emp_title','issue_d','id','purpose','member_id','url','pymnt_plan','desc','title','zip_code','earliest_cr_line','initial_list_status','last_pymnt_d','last_credit_pull_d'],axis=1,inplace=True)"
   ]
  },
  {
   "cell_type": "code",
   "execution_count": 359,
   "metadata": {
    "colab": {
     "base_uri": "https://localhost:8080/"
    },
    "id": "aKqdxZ8aBNWo",
    "outputId": "f611ff0e-be95-46dd-c2e1-96fb532dbb72"
   },
   "outputs": [
    {
     "name": "stdout",
     "output_type": "stream",
     "text": [
      "<class 'pandas.core.frame.DataFrame'>\n",
      "Int64Index: 24301 entries, 0 to 24998\n",
      "Data columns (total 40 columns):\n",
      " #   Column                      Non-Null Count  Dtype  \n",
      "---  ------                      --------------  -----  \n",
      " 0   loan_amnt                   24301 non-null  int64  \n",
      " 1   funded_amnt                 24301 non-null  int64  \n",
      " 2   funded_amnt_inv             24301 non-null  float64\n",
      " 3   term                        24301 non-null  int8   \n",
      " 4   int_rate                    24301 non-null  float64\n",
      " 5   installment                 24301 non-null  float64\n",
      " 6   grade                       24301 non-null  int8   \n",
      " 7   sub_grade                   24301 non-null  int8   \n",
      " 8   emp_length                  24301 non-null  int64  \n",
      " 9   home_ownership              24301 non-null  int8   \n",
      " 10  annual_inc                  24301 non-null  float64\n",
      " 11  verification_status         24301 non-null  int8   \n",
      " 12  loan_status                 24301 non-null  int64  \n",
      " 13  addr_state                  24301 non-null  int8   \n",
      " 14  dti                         24301 non-null  float64\n",
      " 15  delinq_2yrs                 24301 non-null  int64  \n",
      " 16  inq_last_6mths              24301 non-null  int64  \n",
      " 17  open_acc                    24301 non-null  int64  \n",
      " 18  pub_rec                     24301 non-null  int64  \n",
      " 19  revol_bal                   24301 non-null  int64  \n",
      " 20  revol_util                  24301 non-null  float64\n",
      " 21  total_acc                   24301 non-null  int64  \n",
      " 22  out_prncp                   24301 non-null  float64\n",
      " 23  out_prncp_inv               24301 non-null  float64\n",
      " 24  total_pymnt                 24301 non-null  float64\n",
      " 25  total_pymnt_inv             24301 non-null  float64\n",
      " 26  total_rec_prncp             24301 non-null  float64\n",
      " 27  total_rec_int               24301 non-null  float64\n",
      " 28  total_rec_late_fee          24301 non-null  float64\n",
      " 29  recoveries                  24301 non-null  float64\n",
      " 30  collection_recovery_fee     24301 non-null  float64\n",
      " 31  last_pymnt_amnt             24301 non-null  float64\n",
      " 32  collections_12_mths_ex_med  24272 non-null  float64\n",
      " 33  policy_code                 24301 non-null  int64  \n",
      " 34  application_type            24301 non-null  int8   \n",
      " 35  acc_now_delinq              24301 non-null  int64  \n",
      " 36  chargeoff_within_12_mths    24272 non-null  float64\n",
      " 37  delinq_amnt                 24301 non-null  int64  \n",
      " 38  pub_rec_bankruptcies        23884 non-null  float64\n",
      " 39  tax_liens                   24284 non-null  float64\n",
      "dtypes: float64(20), int64(13), int8(7)\n",
      "memory usage: 6.5 MB\n"
     ]
    }
   ],
   "source": [
    "# some info\n",
    "train_df.info()"
   ]
  },
  {
   "cell_type": "code",
   "execution_count": 360,
   "metadata": {
    "colab": {
     "base_uri": "https://localhost:8080/"
    },
    "id": "hAGUeIDRB5Ya",
    "outputId": "adc9e6c1-c0f2-4437-9a6a-eff2730381b6"
   },
   "outputs": [
    {
     "data": {
      "text/plain": [
       "loan_amnt                       0\n",
       "funded_amnt                     0\n",
       "funded_amnt_inv                 0\n",
       "term                            0\n",
       "int_rate                        0\n",
       "installment                     0\n",
       "grade                           0\n",
       "sub_grade                       0\n",
       "emp_length                      0\n",
       "home_ownership                  0\n",
       "annual_inc                      0\n",
       "verification_status             0\n",
       "loan_status                     0\n",
       "addr_state                      0\n",
       "dti                             0\n",
       "delinq_2yrs                     0\n",
       "inq_last_6mths                  0\n",
       "open_acc                        0\n",
       "pub_rec                         0\n",
       "revol_bal                       0\n",
       "revol_util                      0\n",
       "total_acc                       0\n",
       "out_prncp                       0\n",
       "out_prncp_inv                   0\n",
       "total_pymnt                     0\n",
       "total_pymnt_inv                 0\n",
       "total_rec_prncp                 0\n",
       "total_rec_int                   0\n",
       "total_rec_late_fee              0\n",
       "recoveries                      0\n",
       "collection_recovery_fee         0\n",
       "last_pymnt_amnt                 0\n",
       "collections_12_mths_ex_med     29\n",
       "policy_code                     0\n",
       "application_type                0\n",
       "acc_now_delinq                  0\n",
       "chargeoff_within_12_mths       29\n",
       "delinq_amnt                     0\n",
       "pub_rec_bankruptcies          417\n",
       "tax_liens                      17\n",
       "dtype: int64"
      ]
     },
     "execution_count": 360,
     "metadata": {},
     "output_type": "execute_result"
    }
   ],
   "source": [
    "# checking prevelance of NaN\n",
    "train_df.isnull().sum()"
   ]
  },
  {
   "cell_type": "code",
   "execution_count": 361,
   "metadata": {
    "colab": {
     "base_uri": "https://localhost:8080/"
    },
    "id": "f95Cx3xqCOEs",
    "outputId": "46c6e470-3f1b-4744-bfa7-fd59cb242114"
   },
   "outputs": [
    {
     "name": "stdout",
     "output_type": "stream",
     "text": [
      "<class 'pandas.core.frame.DataFrame'>\n",
      "Int64Index: 24301 entries, 0 to 24998\n",
      "Data columns (total 40 columns):\n",
      " #   Column                      Non-Null Count  Dtype  \n",
      "---  ------                      --------------  -----  \n",
      " 0   loan_amnt                   24301 non-null  int64  \n",
      " 1   funded_amnt                 24301 non-null  int64  \n",
      " 2   funded_amnt_inv             24301 non-null  float64\n",
      " 3   term                        24301 non-null  int8   \n",
      " 4   int_rate                    24301 non-null  float64\n",
      " 5   installment                 24301 non-null  float64\n",
      " 6   grade                       24301 non-null  int8   \n",
      " 7   sub_grade                   24301 non-null  int8   \n",
      " 8   emp_length                  24301 non-null  int64  \n",
      " 9   home_ownership              24301 non-null  int8   \n",
      " 10  annual_inc                  24301 non-null  float64\n",
      " 11  verification_status         24301 non-null  int8   \n",
      " 12  loan_status                 24301 non-null  int64  \n",
      " 13  addr_state                  24301 non-null  int8   \n",
      " 14  dti                         24301 non-null  float64\n",
      " 15  delinq_2yrs                 24301 non-null  int64  \n",
      " 16  inq_last_6mths              24301 non-null  int64  \n",
      " 17  open_acc                    24301 non-null  int64  \n",
      " 18  pub_rec                     24301 non-null  int64  \n",
      " 19  revol_bal                   24301 non-null  int64  \n",
      " 20  revol_util                  24301 non-null  float64\n",
      " 21  total_acc                   24301 non-null  int64  \n",
      " 22  out_prncp                   24301 non-null  float64\n",
      " 23  out_prncp_inv               24301 non-null  float64\n",
      " 24  total_pymnt                 24301 non-null  float64\n",
      " 25  total_pymnt_inv             24301 non-null  float64\n",
      " 26  total_rec_prncp             24301 non-null  float64\n",
      " 27  total_rec_int               24301 non-null  float64\n",
      " 28  total_rec_late_fee          24301 non-null  float64\n",
      " 29  recoveries                  24301 non-null  float64\n",
      " 30  collection_recovery_fee     24301 non-null  float64\n",
      " 31  last_pymnt_amnt             24301 non-null  float64\n",
      " 32  collections_12_mths_ex_med  24301 non-null  float64\n",
      " 33  policy_code                 24301 non-null  int64  \n",
      " 34  application_type            24301 non-null  int8   \n",
      " 35  acc_now_delinq              24301 non-null  int64  \n",
      " 36  chargeoff_within_12_mths    24301 non-null  float64\n",
      " 37  delinq_amnt                 24301 non-null  int64  \n",
      " 38  pub_rec_bankruptcies        24301 non-null  float64\n",
      " 39  tax_liens                   24301 non-null  float64\n",
      "dtypes: float64(20), int64(13), int8(7)\n",
      "memory usage: 6.5 MB\n"
     ]
    }
   ],
   "source": [
    "mean=train_df['collections_12_mths_ex_med'].mean()\n",
    "train_df['collections_12_mths_ex_med'].fillna(mean,inplace=True)\n",
    "mean=train_df['chargeoff_within_12_mths'].mean()\n",
    "train_df['chargeoff_within_12_mths'].fillna(mean,inplace=True)\n",
    "mean=train_df['pub_rec_bankruptcies'].mean()\n",
    "train_df['pub_rec_bankruptcies'].fillna(mean,inplace=True)\n",
    "mean=train_df['tax_liens'].mean()\n",
    "train_df['tax_liens'].fillna(mean,inplace=True)\n",
    "\n",
    "# some info\n",
    "train_df.info()"
   ]
  },
  {
   "cell_type": "code",
   "execution_count": 362,
   "metadata": {
    "id": "-2uC8IO1EGCv"
   },
   "outputs": [],
   "source": [
    "# loading into dataframe\n",
    "test_df=pd.read_csv('loan_test.csv')"
   ]
  },
  {
   "cell_type": "code",
   "execution_count": 363,
   "metadata": {
    "colab": {
     "base_uri": "https://localhost:8080/"
    },
    "id": "rslbRJibF8T4",
    "outputId": "5177993c-8490-4714-d2d6-1a1325977bec"
   },
   "outputs": [
    {
     "name": "stdout",
     "output_type": "stream",
     "text": [
      "<class 'pandas.core.frame.DataFrame'>\n",
      "RangeIndex: 14718 entries, 0 to 14717\n",
      "Columns: 111 entries, id to total_il_high_credit_limit\n",
      "dtypes: float64(74), int64(13), object(24)\n",
      "memory usage: 12.5+ MB\n"
     ]
    }
   ],
   "source": [
    "# some info\n",
    "test_df.info()"
   ]
  },
  {
   "cell_type": "code",
   "execution_count": 364,
   "metadata": {
    "colab": {
     "base_uri": "https://localhost:8080/"
    },
    "id": "qs--G162GcAn",
    "outputId": "da8317c1-6ed0-441b-f34c-be9a4559cdd5"
   },
   "outputs": [
    {
     "name": "stdout",
     "output_type": "stream",
     "text": [
      "<class 'pandas.core.frame.DataFrame'>\n",
      "Int64Index: 14276 entries, 0 to 14717\n",
      "Data columns (total 40 columns):\n",
      " #   Column                      Non-Null Count  Dtype  \n",
      "---  ------                      --------------  -----  \n",
      " 0   loan_amnt                   14276 non-null  int64  \n",
      " 1   funded_amnt                 14276 non-null  int64  \n",
      " 2   funded_amnt_inv             14276 non-null  float64\n",
      " 3   term                        14276 non-null  int8   \n",
      " 4   int_rate                    14276 non-null  float64\n",
      " 5   installment                 14276 non-null  float64\n",
      " 6   grade                       14276 non-null  int8   \n",
      " 7   sub_grade                   14276 non-null  int8   \n",
      " 8   emp_length                  14276 non-null  int64  \n",
      " 9   home_ownership              14276 non-null  int8   \n",
      " 10  annual_inc                  14276 non-null  float64\n",
      " 11  verification_status         14276 non-null  int8   \n",
      " 12  loan_status                 14276 non-null  int64  \n",
      " 13  addr_state                  14276 non-null  int8   \n",
      " 14  dti                         14276 non-null  float64\n",
      " 15  delinq_2yrs                 14276 non-null  int64  \n",
      " 16  inq_last_6mths              14276 non-null  int64  \n",
      " 17  open_acc                    14276 non-null  int64  \n",
      " 18  pub_rec                     14276 non-null  int64  \n",
      " 19  revol_bal                   14276 non-null  int64  \n",
      " 20  revol_util                  14276 non-null  float64\n",
      " 21  total_acc                   14276 non-null  int64  \n",
      " 22  out_prncp                   14276 non-null  float64\n",
      " 23  out_prncp_inv               14276 non-null  float64\n",
      " 24  total_pymnt                 14276 non-null  float64\n",
      " 25  total_pymnt_inv             14276 non-null  float64\n",
      " 26  total_rec_prncp             14276 non-null  float64\n",
      " 27  total_rec_int               14276 non-null  float64\n",
      " 28  total_rec_late_fee          14276 non-null  float64\n",
      " 29  recoveries                  14276 non-null  float64\n",
      " 30  collection_recovery_fee     14276 non-null  float64\n",
      " 31  last_pymnt_amnt             14276 non-null  float64\n",
      " 32  collections_12_mths_ex_med  14276 non-null  float64\n",
      " 33  policy_code                 14276 non-null  int64  \n",
      " 34  application_type            14276 non-null  int8   \n",
      " 35  acc_now_delinq              14276 non-null  int64  \n",
      " 36  chargeoff_within_12_mths    14276 non-null  float64\n",
      " 37  delinq_amnt                 14276 non-null  int64  \n",
      " 38  pub_rec_bankruptcies        14276 non-null  float64\n",
      " 39  tax_liens                   14276 non-null  float64\n",
      "dtypes: float64(20), int64(13), int8(7)\n",
      "memory usage: 3.8 MB\n"
     ]
    }
   ],
   "source": [
    "# following the same preprocessing steps\n",
    "\n",
    "# removing data with value 'Current' in 'loan_status' column\n",
    "indexes=test_df[test_df['loan_status']=='Current'].index\n",
    "test_df.drop(indexes,inplace=True)\n",
    "\n",
    "# replacing values in 'loan_status'\n",
    "test_df.replace({'loan_status':{'Fully Paid':1,'Charged Off':-1}}, inplace=True)\n",
    "\n",
    "# removing those columns with more than half NaN entries\n",
    "test_df.dropna(axis=1,thresh=7500,inplace=True)\n",
    "\n",
    "test_df.application_type=test_df.application_type.astype('category').cat.codes\n",
    "test_df.home_ownership=test_df.home_ownership.astype('category').cat.codes\n",
    "test_df.term=test_df.term.astype('category').cat.codes\n",
    "test_df.grade=test_df.grade.astype('category').cat.codes\n",
    "test_df.sub_grade=test_df.sub_grade.astype('category').cat.codes\n",
    "test_df['int_rate']=test_df['int_rate'].str.replace('%','').astype('float64')\n",
    "\n",
    "test_df['verification_status']=test_df['verification_status'].str.replace('Source ','')\n",
    "test_df.verification_status=test_df.verification_status.astype('category').cat.codes\n",
    "\n",
    "test_df['emp_length']=test_df['emp_length'].str.replace('years','')\n",
    "test_df['emp_length']=test_df['emp_length'].str.replace('year','')\n",
    "test_df['emp_length']=test_df['emp_length'].str.replace('+','')\n",
    "test_df['emp_length']=test_df['emp_length'].str.replace('<','')\n",
    "test_df['emp_length']=test_df['emp_length'].str.replace(' ','')\n",
    "\n",
    "mode=test_df['emp_length'].mode()\n",
    "test_df['emp_length'].fillna(mode[0],inplace=True)\n",
    "test_df.emp_length=test_df.emp_length.astype('int64')\n",
    "\n",
    "test_df['revol_util']=test_df['revol_util'].str.replace('%','').astype('float64')\n",
    "\n",
    "mean=test_df['revol_util'].mean()\n",
    "test_df['revol_util'].fillna(mean,inplace=True)\n",
    "\n",
    "test_df.purpose=test_df.purpose.astype('category').cat.codes\n",
    "test_df.addr_state=test_df.addr_state.astype('category').cat.codes\n",
    "\n",
    "mean=test_df['collections_12_mths_ex_med'].mean()\n",
    "test_df['collections_12_mths_ex_med'].fillna(mean,inplace=True)\n",
    "mean=test_df['chargeoff_within_12_mths'].mean()\n",
    "test_df['chargeoff_within_12_mths'].fillna(mean,inplace=True)\n",
    "mean=test_df['pub_rec_bankruptcies'].mean()\n",
    "test_df['pub_rec_bankruptcies'].fillna(mean,inplace=True)\n",
    "mean=test_df['tax_liens'].mean()\n",
    "test_df['tax_liens'].fillna(mean,inplace=True)\n",
    "\n",
    "# dropping data which are not useful\n",
    "test_df.drop(['emp_title','issue_d','id','purpose','member_id','url','pymnt_plan','desc','title','zip_code','earliest_cr_line','initial_list_status','last_pymnt_d','last_credit_pull_d'],axis=1,inplace=True)\n",
    "\n",
    "# some info\n",
    "test_df.info()"
   ]
  },
  {
   "cell_type": "code",
   "execution_count": 365,
   "metadata": {
    "id": "DVnHkfz4LT9W"
   },
   "outputs": [],
   "source": [
    "X_train=np.array(train_df.drop(columns=['loan_status']))\n",
    "Y_train=np.array(train_df.loan_status)\n",
    "X_test=np.array(test_df.drop(columns=['loan_status']))\n",
    "Y_test=np.array(test_df.loan_status)"
   ]
  },
  {
   "cell_type": "markdown",
   "metadata": {},
   "source": [
    "### Exploring various combinations of hyperparameters"
   ]
  },
  {
   "cell_type": "code",
   "execution_count": 366,
   "metadata": {
    "colab": {
     "base_uri": "https://localhost:8080/"
    },
    "id": "tNl5trCmXad1",
    "outputId": "5b765e3c-36b8-4af2-f090-58a141d6660c"
   },
   "outputs": [
    {
     "name": "stdout",
     "output_type": "stream",
     "text": [
      "Accuracy: 0.9948164752031381\n",
      "Precision: 0.9940949725252194\n",
      "Recall: 0.9998350243339107\n"
     ]
    }
   ],
   "source": [
    "grb=GradientBoostingClassifier()\n",
    "grb.fit(X_train,Y_train)\n",
    "print('Accuracy:',grb.score(X_test,Y_test))\n",
    "prediction=grb.predict(X_test)\n",
    "print('Precision:',precision_score(Y_test,prediction))\n",
    "print('Recall:',recall_score(Y_test,prediction))"
   ]
  },
  {
   "cell_type": "code",
   "execution_count": 367,
   "metadata": {
    "colab": {
     "base_uri": "https://localhost:8080/"
    },
    "id": "B3QK55I8YAgK",
    "outputId": "b04631f1-9b8a-4bda-89af-c4ea45ba95d9"
   },
   "outputs": [
    {
     "name": "stdout",
     "output_type": "stream",
     "text": [
      "Accuracy: 0.9965676660128888\n",
      "Precision: 0.996137409598948\n",
      "Recall: 0.9998350243339107\n"
     ]
    }
   ],
   "source": [
    "grb=GradientBoostingClassifier(n_estimators=300)\n",
    "grb.fit(X_train,Y_train)\n",
    "print('Accuracy:',grb.score(X_test,Y_test))\n",
    "prediction=grb.predict(X_test)\n",
    "print('Precision:',precision_score(Y_test,prediction))\n",
    "print('Recall:',recall_score(Y_test,prediction))"
   ]
  },
  {
   "cell_type": "code",
   "execution_count": 368,
   "metadata": {
    "colab": {
     "base_uri": "https://localhost:8080/"
    },
    "id": "AOXFqt7ycWQ9",
    "outputId": "2661baa0-8ec2-4b54-9239-9feb0fc65a71"
   },
   "outputs": [
    {
     "name": "stdout",
     "output_type": "stream",
     "text": [
      "Accuracy: 0.997128047072009\n",
      "Precision: 0.9967927631578948\n",
      "Recall: 0.9998350243339107\n"
     ]
    }
   ],
   "source": [
    "grb=GradientBoostingClassifier(n_estimators=500)\n",
    "grb.fit(X_train,Y_train)\n",
    "print('Accuracy:',grb.score(X_test,Y_test))\n",
    "prediction=grb.predict(X_test)\n",
    "print('Precision:',precision_score(Y_test,prediction))\n",
    "print('Recall:',recall_score(Y_test,prediction))"
   ]
  },
  {
   "cell_type": "code",
   "execution_count": 369,
   "metadata": {
    "colab": {
     "base_uri": "https://localhost:8080/"
    },
    "id": "RoKdSPXCce12",
    "outputId": "d11dd781-5c98-4ce5-80e4-0961a7d6e09f"
   },
   "outputs": [
    {
     "name": "stdout",
     "output_type": "stream",
     "text": [
      "Accuracy: 0.997338189969179\n",
      "Precision: 0.9969569865942923\n",
      "Recall: 0.9999175121669553\n"
     ]
    }
   ],
   "source": [
    "grb=GradientBoostingClassifier(n_estimators=700)\n",
    "grb.fit(X_train,Y_train)\n",
    "print('Accuracy:',grb.score(X_test,Y_test))\n",
    "prediction=grb.predict(X_test)\n",
    "print('Precision:',precision_score(Y_test,prediction))\n",
    "print('Recall:',recall_score(Y_test,prediction))"
   ]
  },
  {
   "cell_type": "code",
   "execution_count": 372,
   "metadata": {
    "colab": {
     "base_uri": "https://localhost:8080/"
    },
    "id": "ulo3dtbLf8Mb",
    "outputId": "1b83fa8e-a499-4e4e-91f4-567bfcbd8401"
   },
   "outputs": [
    {
     "name": "stdout",
     "output_type": "stream",
     "text": [
      "Accuracy: 0.997338189969179\n",
      "Precision: 0.9969569865942923\n",
      "Recall: 0.9999175121669553\n"
     ]
    }
   ],
   "source": [
    "grb=GradientBoostingClassifier(n_estimators=700,max_features='auto')\n",
    "grb.fit(X_train,Y_train)\n",
    "print('Accuracy:',grb.score(X_test,Y_test))\n",
    "prediction=grb.predict(X_test)\n",
    "print('Precision:',precision_score(Y_test,prediction))\n",
    "print('Recall:',recall_score(Y_test,prediction))"
   ]
  },
  {
   "cell_type": "code",
   "execution_count": 373,
   "metadata": {
    "colab": {
     "base_uri": "https://localhost:8080/"
    },
    "id": "0iTQzHTNhBup",
    "outputId": "8b0ff1af-fd43-40cb-8ff7-4781b57b18dd"
   },
   "outputs": [
    {
     "name": "stdout",
     "output_type": "stream",
     "text": [
      "Accuracy: 0.997408237601569\n",
      "Precision: 0.9969572368421052\n",
      "Recall: 1.0\n"
     ]
    }
   ],
   "source": [
    "grb=GradientBoostingClassifier(n_estimators=700,min_samples_leaf=2)\n",
    "grb.fit(X_train,Y_train)\n",
    "print('Accuracy:',grb.score(X_test,Y_test))\n",
    "prediction=grb.predict(X_test)\n",
    "print('Precision:',precision_score(Y_test,prediction))\n",
    "print('Recall:',recall_score(Y_test,prediction))"
   ]
  },
  {
   "cell_type": "markdown",
   "metadata": {},
   "source": [
    "### Best combination of hyperparameters"
   ]
  },
  {
   "cell_type": "code",
   "execution_count": 375,
   "metadata": {
    "colab": {
     "base_uri": "https://localhost:8080/"
    },
    "id": "guNY5e3jhkCW",
    "outputId": "2237cf4b-7d8d-49c4-94f4-fc13fd42dfbd"
   },
   "outputs": [
    {
     "name": "stdout",
     "output_type": "stream",
     "text": [
      "Accuracy: 0.9974782852339591\n",
      "Precision: 0.997039230199852\n",
      "Recall: 1.0\n"
     ]
    }
   ],
   "source": [
    "grb=GradientBoostingClassifier(n_estimators=700,min_samples_leaf=2,max_depth=4)\n",
    "grb.fit(X_train,Y_train)\n",
    "print('Accuracy:',grb.score(X_test,Y_test))\n",
    "prediction=grb.predict(X_test)\n",
    "print('Precision:',precision_score(Y_test,prediction))\n",
    "print('Recall:',recall_score(Y_test,prediction))"
   ]
  },
  {
   "cell_type": "markdown",
   "metadata": {},
   "source": [
    "### Simple decision tree"
   ]
  },
  {
   "cell_type": "code",
   "execution_count": 370,
   "metadata": {
    "colab": {
     "base_uri": "https://localhost:8080/"
    },
    "id": "eOZE4FfZXcNF",
    "outputId": "f47424cc-39fd-41b5-a2c2-8e9fc55419f7"
   },
   "outputs": [
    {
     "name": "stdout",
     "output_type": "stream",
     "text": [
      "Accuracy: 0.9912440459512468\n",
      "Precision: 0.9952121512299819\n",
      "Recall: 0.99447331518601\n"
     ]
    }
   ],
   "source": [
    "dt=DecisionTreeClassifier()\n",
    "dt.fit(X_train,Y_train)\n",
    "print('Accuracy:',dt.score(X_test,Y_test))\n",
    "prediction=dt.predict(X_test)\n",
    "print('Precision:',precision_score(Y_test,prediction))\n",
    "print('Recall:',recall_score(Y_test,prediction))"
   ]
  }
 ],
 "metadata": {
  "colab": {
   "collapsed_sections": [],
   "name": "Ass3_Q5.ipynb",
   "provenance": []
  },
  "kernelspec": {
   "display_name": "Python 3 (ipykernel)",
   "language": "python",
   "name": "python3"
  },
  "language_info": {
   "codemirror_mode": {
    "name": "ipython",
    "version": 3
   },
   "file_extension": ".py",
   "mimetype": "text/x-python",
   "name": "python",
   "nbconvert_exporter": "python",
   "pygments_lexer": "ipython3",
   "version": "3.8.10"
  }
 },
 "nbformat": 4,
 "nbformat_minor": 1
}
